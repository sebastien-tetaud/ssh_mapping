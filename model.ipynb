{
 "cells": [
  {
   "cell_type": "code",
   "execution_count": 1,
   "metadata": {},
   "outputs": [],
   "source": [
    "from torch import nn # type: ignore\n",
    "import torch # type: ignore\n"
   ]
  },
  {
   "cell_type": "code",
   "execution_count": 2,
   "metadata": {},
   "outputs": [],
   "source": [
    "class Encoder(nn.Module):\n",
    "    def __init__(self, layers):\n",
    "        super(Encoder, self).__init__()\n",
    "        self.encoder = nn.Sequential(*layers)\n",
    "\n",
    "    def forward(self, x):\n",
    "        return self.encoder(x)"
   ]
  },
  {
   "cell_type": "code",
   "execution_count": 3,
   "metadata": {},
   "outputs": [],
   "source": [
    "class Decoder(nn.Module):\n",
    "    def __init__(self, layers):\n",
    "        super(Decoder, self).__init__()\n",
    "        self.decoder = nn.Sequential(*layers)\n",
    "\n",
    "    def forward(self, x):\n",
    "        return self.decoder(x)"
   ]
  },
  {
   "cell_type": "code",
   "execution_count": 19,
   "metadata": {},
   "outputs": [],
   "source": [
    "class SimpleAutoencoderCNN3D(nn.Module):\n",
    "    def __init__(self):\n",
    "        super(SimpleAutoencoderCNN3D, self).__init__()\n",
    "\n",
    "        # Encoder layers\n",
    "        encoder_layers = []\n",
    "        in_channels = 1\n",
    "        out_channels_list = [16, 32, 64, 128, 256, 1]\n",
    "\n",
    "        for out_channels in out_channels_list:\n",
    "            encoder_layers.append(nn.Conv3d(in_channels, out_channels, kernel_size=3, stride=1, padding=1))\n",
    "            encoder_layers.append(nn.BatchNorm3d(out_channels))\n",
    "            if out_channels != 1:  # No ReLU for the last layer in the encoder\n",
    "                encoder_layers.append(nn.ReLU())\n",
    "            in_channels = out_channels\n",
    "\n",
    "        # Decoder layers\n",
    "        decoder_layers = []\n",
    "        in_channels = 1\n",
    "        out_channels_list = [256, 128, 64, 32, 16, 1]\n",
    "\n",
    "        for out_channels in out_channels_list:\n",
    "            decoder_layers.append(nn.ConvTranspose3d(in_channels, out_channels, kernel_size=3, stride=1, padding=1))\n",
    "            decoder_layers.append(nn.BatchNorm3d(out_channels))\n",
    "            if out_channels != 1:  # No ReLU for the last layer in the decoder\n",
    "                decoder_layers.append(nn.ReLU())\n",
    "            in_channels = out_channels\n",
    "\n",
    "        # Initialize Encoder and Decoder\n",
    "        self.encoder = Encoder(encoder_layers)\n",
    "        self.decoder = Decoder(decoder_layers)\n",
    "\n",
    "    def forward(self, x):\n",
    "        # Encoder\n",
    "        x = self.encoder(x)\n",
    "\n",
    "        # Decoder\n",
    "        x = self.decoder(x)\n",
    "\n",
    "        return x"
   ]
  },
  {
   "cell_type": "code",
   "execution_count": 20,
   "metadata": {},
   "outputs": [],
   "source": [
    "x = torch.rand(8, 1, 6, 100, 100)"
   ]
  },
  {
   "cell_type": "code",
   "execution_count": 21,
   "metadata": {},
   "outputs": [],
   "source": [
    "model = SimpleAutoencoderCNN3D()"
   ]
  },
  {
   "cell_type": "code",
   "execution_count": 22,
   "metadata": {},
   "outputs": [],
   "source": [
    "out = model(x)"
   ]
  },
  {
   "cell_type": "code",
   "execution_count": 23,
   "metadata": {},
   "outputs": [
    {
     "data": {
      "text/plain": [
       "torch.Size([8, 1, 6, 100, 100])"
      ]
     },
     "execution_count": 23,
     "metadata": {},
     "output_type": "execute_result"
    }
   ],
   "source": [
    "out.shape"
   ]
  },
  {
   "cell_type": "code",
   "execution_count": 56,
   "metadata": {},
   "outputs": [
    {
     "name": "stdout",
     "output_type": "stream",
     "text": [
      "torch.Size([8, 1, 1, 100, 100])\n"
     ]
    }
   ],
   "source": [
    "x = torch.rand(8, 1, 6, 100, 100)\n",
    "\n",
    "# conv = nn.Conv3d(1, 1, kernel_siz=1)\n",
    "# t = conv(x)\n",
    " # Final convolution to adjust depth to 1 and squeeze layer\n",
    "final_layers = nn.Conv3d(1, 1, kernel_size=(6, 3, 3), stride=(1, 1, 1), padding=(0, 1, 1))\n",
    "t = final_layers(x)  \n",
    "print(t.shape)"
   ]
  },
  {
   "cell_type": "code",
   "execution_count": 30,
   "metadata": {},
   "outputs": [],
   "source": []
  },
  {
   "cell_type": "code",
   "execution_count": null,
   "metadata": {},
   "outputs": [],
   "source": []
  }
 ],
 "metadata": {
  "kernelspec": {
   "display_name": "ssh",
   "language": "python",
   "name": "python3"
  },
  "language_info": {
   "codemirror_mode": {
    "name": "ipython",
    "version": 3
   },
   "file_extension": ".py",
   "mimetype": "text/x-python",
   "name": "python",
   "nbconvert_exporter": "python",
   "pygments_lexer": "ipython3",
   "version": "3.11.9"
  }
 },
 "nbformat": 4,
 "nbformat_minor": 2
}
